{
 "cells": [
  {
   "cell_type": "code",
   "execution_count": 1,
   "metadata": {},
   "outputs": [],
   "source": [
    "import os"
   ]
  },
  {
   "cell_type": "code",
   "execution_count": 2,
   "metadata": {},
   "outputs": [],
   "source": [
    "os.chdir('../')"
   ]
  },
  {
   "cell_type": "code",
   "execution_count": 3,
   "metadata": {},
   "outputs": [
    {
     "data": {
      "text/plain": [
       "'c:\\\\Users\\\\mayuo\\\\OneDrive\\\\Documents\\\\Machine Learning by Abraham\\\\MLOps wine'"
      ]
     },
     "execution_count": 3,
     "metadata": {},
     "output_type": "execute_result"
    }
   ],
   "source": [
    "%pwd"
   ]
  },
  {
   "cell_type": "markdown",
   "metadata": {},
   "source": [
    "##### Code the entity "
   ]
  },
  {
   "cell_type": "code",
   "execution_count": 21,
   "metadata": {},
   "outputs": [],
   "source": [
    "from dataclasses import dataclass\n",
    "from pathlib import Path\n",
    "\n",
    "\n",
    "@dataclass(frozen=True)\n",
    "class DataTransformationConfig:\n",
    "    root_dir: Path\n",
    "    data_path: Path\n",
    "    test_size: float\n",
    "    bins: list\n",
    "    labels: list\n",
    "    target_column: str"
   ]
  },
  {
   "cell_type": "markdown",
   "metadata": {},
   "source": [
    "##### Code the configuration manager"
   ]
  },
  {
   "cell_type": "code",
   "execution_count": 6,
   "metadata": {},
   "outputs": [],
   "source": [
    "from src.MLOps_wine.constants import *\n",
    "from src.MLOps_wine.utils.common import read_yaml, create_directories"
   ]
  },
  {
   "cell_type": "code",
   "execution_count": 20,
   "metadata": {},
   "outputs": [],
   "source": [
    "\n",
    "class ConfigurationManager:\n",
    "    def __init__(\n",
    "        self,\n",
    "        config_filepath = CONFIG_FILE_PATH,\n",
    "        params_filepath = PARAMS_FILE_PATH,\n",
    "        schema_filepath = SCHEMA_FILE_PATH):\n",
    "\n",
    "        self.config = read_yaml(config_filepath)\n",
    "        self.params = read_yaml(params_filepath)\n",
    "        self.schema = read_yaml(schema_filepath)\n",
    "\n",
    "        create_directories([self.config.artifacts_root])\n",
    "\n",
    "    \n",
    "    def get_data_transformation_config(self) -> DataTransformationConfig:\n",
    "        config = self.config.data_transformation\n",
    "        schema = self.schema.TARGET_COLUMN\n",
    "\n",
    "        create_directories([config.root_dir])\n",
    "\n",
    "        data_transformation_config = DataTransformationConfig(\n",
    "            root_dir=config.root_dir,\n",
    "            data_path=config.data_path,\n",
    "            test_size= config.test_size,\n",
    "            bins=config.bins,\n",
    "            labels=config.labels,\n",
    "            target_column= schema.name\n",
    "        )\n",
    "\n",
    "        return data_transformation_config"
   ]
  },
  {
   "cell_type": "markdown",
   "metadata": {},
   "source": [
    "##### We create the validation component"
   ]
  },
  {
   "cell_type": "code",
   "execution_count": 30,
   "metadata": {},
   "outputs": [],
   "source": [
    "import os\n",
    "from src.MLOps_wine import logger\n",
    "from sklearn.model_selection import train_test_split\n",
    "from sklearn.compose import ColumnTransformer\n",
    "from sklearn.preprocessing import StandardScaler\n",
    "import pandas as pd\n",
    "import numpy as np\n",
    "from joblib import dump"
   ]
  },
  {
   "cell_type": "code",
   "execution_count": 31,
   "metadata": {},
   "outputs": [],
   "source": [
    "class DataTransformation:\n",
    "    def __init__(self, config: DataTransformationConfig):\n",
    "        self.config = config\n",
    "\n",
    "    def train_test_spliting(self):\n",
    "        data = pd.read_csv(self.config.data_path)\n",
    "\n",
    "        train,test = train_test_split(data,test_size=self.config.test_size)\n",
    "        bins = self.config.bins  # Quality bins\n",
    "        labels = self.config.labels  # Quality labels\n",
    "\n",
    "        data[self.config.target_column] = pd.cut(data[self.config.target_column],bins=bins, labels=labels, include_lowest=True)\n",
    "\n",
    "        numeric_features = list(train.select_dtypes(exclude=\"object\").columns)\n",
    "        numeric_transformer = StandardScaler()\n",
    "        preprocessor = ColumnTransformer(\n",
    "            [\n",
    "                (\"StandardScaler\", numeric_transformer, numeric_features)\n",
    "                \n",
    "            ]\n",
    "        )\n",
    "\n",
    "        # Fit preprocessor on training data and transform both train and test data\n",
    "        train = preprocessor.fit_transform(train)\n",
    "        test = preprocessor.transform(test)\n",
    "\n",
    "        # Convert transformed arrays back to DataFrame\n",
    "        train = pd.DataFrame(train, columns=numeric_features)\n",
    "        test = pd.DataFrame(test, columns=numeric_features)\n",
    "\n",
    "        # Concatenate the target column to the DataFrame\n",
    "        train[self.config.target_column] = data.loc[train.index, self.config.target_column]\n",
    "        test[self.config.target_column] = data.loc[test.index, self.config.target_column]\n",
    "\n",
    "        # Save preprocessed data to CSV files\n",
    "        train.to_csv(os.path.join(self.config.root_dir, \"train.csv\"), index=False)\n",
    "        test.to_csv(os.path.join(self.config.root_dir, \"test.csv\"), index=False)\n",
    "\n",
    "        dump(preprocessor, os.path.join(self.config.root_dir, \"preprocessor.joblib\"))\n",
    "\n",
    "        logger.info(f\"Data split into training and test sets (test_size: {self.config.test_size})\")\n",
    "        logger.info(f\"Training features shape: {train.shape}\")\n",
    "        logger.info(f\"Test features shape: {test.shape}\")\n",
    "\n",
    "        print(f\"Data split into training and test sets (test_size: {self.config.test_size})\")\n",
    "        print(f\"Training features shape: {train.shape}\")\n",
    "        print(f\"Test features shape: {test.shape}\")\n",
    "    \n"
   ]
  },
  {
   "cell_type": "code",
   "execution_count": 32,
   "metadata": {},
   "outputs": [
    {
     "name": "stdout",
     "output_type": "stream",
     "text": [
      "[2024-04-29 18:09:20,087: INFO: common: yaml file: config\\config.yaml loaded successfully]\n",
      "[2024-04-29 18:09:20,090: INFO: common: yaml file: params.yaml loaded successfully]\n",
      "[2024-04-29 18:09:20,095: INFO: common: yaml file: schema.yaml loaded successfully]\n",
      "[2024-04-29 18:09:20,097: INFO: common: created directory at: artifacts]\n",
      "[2024-04-29 18:09:20,099: INFO: common: created directory at: artifacts/data_transformation]\n",
      "[2024-04-29 18:09:20,192: INFO: 1721404121: Data split into training and test sets (test_size: 0.2)]\n",
      "[2024-04-29 18:09:20,194: INFO: 1721404121: Training features shape: (1279, 12)]\n",
      "[2024-04-29 18:09:20,196: INFO: 1721404121: Test features shape: (320, 12)]\n",
      "Data split into training and test sets (test_size: 0.2)\n",
      "Training features shape: (1279, 12)\n",
      "Test features shape: (320, 12)\n"
     ]
    }
   ],
   "source": [
    "\n",
    "try:\n",
    "    config = ConfigurationManager()\n",
    "    data_transformation_config = config.get_data_transformation_config()\n",
    "    data_transformation = DataTransformation(config=data_transformation_config)\n",
    "    data_transformation.train_test_spliting()\n",
    "except Exception as e:\n",
    "    raise e"
   ]
  },
  {
   "cell_type": "code",
   "execution_count": null,
   "metadata": {},
   "outputs": [],
   "source": []
  }
 ],
 "metadata": {
  "kernelspec": {
   "display_name": "Python 3",
   "language": "python",
   "name": "python3"
  },
  "language_info": {
   "codemirror_mode": {
    "name": "ipython",
    "version": 3
   },
   "file_extension": ".py",
   "mimetype": "text/x-python",
   "name": "python",
   "nbconvert_exporter": "python",
   "pygments_lexer": "ipython3",
   "version": "3.8.0"
  }
 },
 "nbformat": 4,
 "nbformat_minor": 2
}
